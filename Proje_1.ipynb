{
  "nbformat": 4,
  "nbformat_minor": 0,
  "metadata": {
    "colab": {
      "provenance": [],
      "collapsed_sections": [],
      "include_colab_link": true
    },
    "kernelspec": {
      "name": "python3",
      "display_name": "Python 3"
    },
    "language_info": {
      "name": "python"
    }
  },
  "cells": [
    {
      "cell_type": "markdown",
      "metadata": {
        "id": "view-in-github",
        "colab_type": "text"
      },
      "source": [
        "<a href=\"https://colab.research.google.com/github/ozgedoner/GlobalAlHub-Bootcamp-Final-Project-1/blob/main/Proje_1.ipynb\" target=\"_parent\"><img src=\"https://colab.research.google.com/assets/colab-badge.svg\" alt=\"Open In Colab\"/></a>"
      ]
    },
    {
      "cell_type": "markdown",
      "source": [
        "#**Proje 1**\n",
        "## **Öğrenci Not Sistemi**\n",
        "\n",
        "\n",
        "**Ders: Matematik**\n",
        "\n",
        "\n"
      ],
      "metadata": {
        "id": "5jgSAdg2OdNB"
      }
    },
    {
      "cell_type": "markdown",
      "source": [
        "###**Not Aralığı**\n",
        "\n",
        "*   88-100 -> AA\n",
        "* 80-87 -> BA\n",
        "* 73-79 -> BB\n",
        "* 66-72 -> CB\n",
        "* 60-65 -> CC \n",
        "* 55-59 -> DC \n",
        "* 50-54 -> DD \n",
        "* 0-49 -> FF \n",
        "\n",
        "###Not aralığı İstanbul Üniversitesi'nden alınmıştır.\n",
        "\n",
        "\n",
        "\n",
        "\n"
      ],
      "metadata": {
        "id": "zbfSem6dPJBA"
      }
    },
    {
      "cell_type": "code",
      "source": [
        "#Import Pandas and NumPy\n",
        "import numpy as np\n",
        "import pandas as pd"
      ],
      "metadata": {
        "id": "17RkQhf9e2ys"
      },
      "execution_count": 1,
      "outputs": []
    },
    {
      "cell_type": "code",
      "source": [
        "class ogrenci:\n",
        "    def __init__(self, ad, soyad, okul_no, sinav_puani) :\n",
        "        self.ad = ad\n",
        "        self.soyad = soyad\n",
        "        self.okul_no = okul_no\n",
        "        self.sinav_puani = sinav_puani       \n",
        "        self.harf_notu = self.get_harf_notu()\n",
        "        self.basari_durumu = self.get_basari_durumu()\n",
        "\n",
        "    def get_basari_durumu(self):\n",
        "        if(self.harf_notu == \"FF\"):\n",
        "          return \"Kaldı\" \n",
        "        else:\n",
        "          return \"Geçti\"\n",
        "\n",
        "    def get_harf_notu(self):\n",
        "        if(self.sinav_puani >=88):\n",
        "            return \"AA\"   \n",
        "        elif(self.sinav_puani >=80):\n",
        "            return \"BA\"\n",
        "        elif(self.sinav_puani >=73):\n",
        "            return \"BB\"\n",
        "        elif(self.sinav_puani >=66):\n",
        "            return \"CB\"\n",
        "        elif(self.sinav_puani >=60):\n",
        "            return \"CC\"\n",
        "        elif(self.sinav_puani >=55):\n",
        "            return \"DC\"\n",
        "        elif(self.sinav_puani >=50):\n",
        "            return \"DD\"\n",
        "        elif(0<= self.sinav_puani <=49):\n",
        "            return \"FF\""
      ],
      "metadata": {
        "id": "kQ-E0ehv_Iie"
      },
      "execution_count": 2,
      "outputs": []
    },
    {
      "cell_type": "code",
      "source": [
        "ad = []\n",
        "soyad = []\n",
        "okul_no  = []\n",
        "sinav_puani  = []\n",
        "harf_notu = []\n",
        "basari_durumu = []\n",
        "\n",
        "def ogrenci_ekle(_ad, _soyad, _okul_no, _sinav_puani):\n",
        "  ogr = ogrenci(_ad, _soyad, _okul_no, _sinav_puani)\n",
        "  ad.append(_ad)\n",
        "  soyad.append(_soyad)\n",
        "  okul_no.append(_okul_no)\n",
        "  sinav_puani.append(_sinav_puani)\n",
        "  harf_notu.append(ogr.harf_notu)\n",
        "  basari_durumu.append(ogr.basari_durumu)\n",
        "\n",
        "ogrenci_ekle(\"Monica\", \"Geller\", 1965, 80)\n",
        "ogrenci_ekle(\"Chandler\", \"Bing\", 1966, 55)\n",
        "ogrenci_ekle(\"Ross\", \"Geller\", 1967, 96)\n",
        "ogrenci_ekle(\"Racheal\", \"Green\", 1968, 42)\n",
        "ogrenci_ekle(\"Phoebe\", \"Buffay\", 1969, 67)\n",
        "ogrenci_ekle(\"Joey\", \"Tribbiani\", 1970, 33)"
      ],
      "metadata": {
        "id": "brp1mcVzv1AY"
      },
      "execution_count": 3,
      "outputs": []
    },
    {
      "cell_type": "code",
      "source": [
        "ogrenci_dict = {\"Ad\":ad, \"Soyad\":soyad,\"Okul No\": okul_no,\"Sınav Puanı\": sinav_puani,\"Harf Notu\": harf_notu, \"Başarı Durumu\": basari_durumu}\n",
        "\n",
        "ogrenci_df = pd.DataFrame(ogrenci_dict)\n",
        "print(ogrenci_df)\n"
      ],
      "metadata": {
        "colab": {
          "base_uri": "https://localhost:8080/"
        },
        "id": "o-I9vvY6pbtu",
        "outputId": "2b3062f9-5272-4f6d-fe71-15347c73bb8a"
      },
      "execution_count": 4,
      "outputs": [
        {
          "output_type": "stream",
          "name": "stdout",
          "text": [
            "         Ad      Soyad  Okul No  Sınav Puanı Harf Notu Başarı Durumu\n",
            "0    Monica     Geller     1965           80        BA         Geçti\n",
            "1  Chandler       Bing     1966           55        DC         Geçti\n",
            "2      Ross     Geller     1967           96        AA         Geçti\n",
            "3   Racheal      Green     1968           42        FF         Kaldı\n",
            "4    Phoebe     Buffay     1969           67        CB         Geçti\n",
            "5      Joey  Tribbiani     1970           33        FF         Kaldı\n"
          ]
        }
      ]
    },
    {
      "cell_type": "code",
      "source": [
        "\n",
        "file_name = 'Proje1.xlsx'\n",
        "ogrenci_df.to_excel(file_name)\n"
      ],
      "metadata": {
        "id": "GSmX_sEmtMFV"
      },
      "execution_count": 5,
      "outputs": []
    }
  ]
}